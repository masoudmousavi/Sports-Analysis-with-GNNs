{
 "cells": [
  {
   "cell_type": "code",
   "execution_count": 69,
   "metadata": {},
   "outputs": [],
   "source": [
    "import pickle\n",
    "import matplotlib.pyplot as plt\n",
    "import numpy as np\n",
    "from Config import HYPERPARAETERS\n",
    "import pandas as pd\n",
    "\n",
    "#Constants\n",
    "c = 10\n",
    "d = 400\n",
    "k = 10\n",
    "R0 = 1000"
   ]
  },
  {
   "cell_type": "code",
   "execution_count": 70,
   "metadata": {},
   "outputs": [],
   "source": [
    "DATA_COLUMNS = ['league', 'season', 'week', 'home_team', 'away_team', 'result']\n",
    "dataset: pd.DataFrame = pd.read_csv(\n",
    "            'data/KaggleDataset_withBO.csv',\n",
    "            encoding='utf-8',\n",
    "            usecols=DATA_COLUMNS,\n",
    "            dtype=dict(zip(DATA_COLUMNS, [str]*2 + [int] + [str]*3))\n",
    "        )\n",
    "conds = [\n",
    "    (dataset['result'] == 'win'),\n",
    "    (dataset['result'] == 'tie'),\n",
    "    (dataset['result'] == 'loss')\n",
    "]\n",
    "choices = [1, 0.5, 0]\n",
    "dataset['alphaH'] = np.select(conds, choices)\n",
    "dataset['alphaA'] = np.select(conds, choices[::-1])\n",
    "\n",
    "Elo_Scores = pd.Series(R0, index=np.unique(dataset[['home_team', 'away_team']]))\n",
    "\n",
    "\n",
    "tvt_indcs = dict() #train validation test indcs\n",
    "for league, league_df in dataset.groupby('league'):\n",
    "    tvt_indcs[league] = dict()\n",
    "    tvt_indcs[league]['test'] = league_df.index[-int(HYPERPARAETERS.TestPortion.value * league_df.shape[0]):]\n",
    "    tvt_indcs[league]['eval'] = league_df.index[-int((HYPERPARAETERS.TestPortion.value + HYPERPARAETERS.ValidationPortion.value) * league_df.shape[0]) : -int(HYPERPARAETERS.TestPortion.value * league_df.shape[0])]\n",
    "    tvt_indcs[league]['train'] = league_df.index[: -int((HYPERPARAETERS.TestPortion.value + HYPERPARAETERS.ValidationPortion.value) * league_df.shape[0])]"
   ]
  },
  {
   "cell_type": "code",
   "execution_count": 71,
   "metadata": {},
   "outputs": [],
   "source": [
    "for league, league_df in dataset.groupby('league'):\n",
    "    index_dict = tvt_indcs[league]\n",
    "    for idx in index_dict['train']:\n",
    "        match = dataset.loc[idx, :]\n",
    "        currentH_elo = Elo_Scores[match['home_team']]\n",
    "        currentA_elo = Elo_Scores[match['away_team']]\n",
    "        expectedH = 1 / (1 + c**((currentA_elo - currentH_elo) / d))\n",
    "        expectedH = 1 / (1 + c**((currentH_elo - currentA_elo) / d))\n",
    "        \n",
    "        #Updating\n",
    "        Elo_Scores.loc[match['home_team']] = currentH_elo + (k * (match['alphaH'] - expectedH))\n",
    "        Elo_Scores.loc[match['home_team']] = currentH_elo + (k * (match['alphaA'] - expectedH))"
   ]
  },
  {
   "cell_type": "code",
   "execution_count": 72,
   "metadata": {},
   "outputs": [
    {
     "data": {
      "text/plain": [
       "AC Ajaccio                  1118.179993\n",
       "AC Arles-Avignon            1048.378342\n",
       "ADO Den Haag                1148.760219\n",
       "AJ Auxerre                   947.687251\n",
       "AS Monaco                    925.685929\n",
       "                               ...     \n",
       "Wigan Athletic              1127.055064\n",
       "Willem II                   1163.025110\n",
       "Wolverhampton Wanderers     1144.503168\n",
       "Xerez Club Deportivo        1013.116122\n",
       "Évian Thonon Gaillard FC    1089.739249\n",
       "Length: 254, dtype: float64"
      ]
     },
     "execution_count": 72,
     "metadata": {},
     "output_type": "execute_result"
    }
   ],
   "source": [
    "Elo_Scores"
   ]
  },
  {
   "cell_type": "code",
   "execution_count": null,
   "metadata": {},
   "outputs": [],
   "source": []
  }
 ],
 "metadata": {
  "interpreter": {
   "hash": "cbd2db9be6da21c7ab1f5d1ce7764fb22b7b72a23cec497c37b3c7bbf7d6dfed"
  },
  "kernelspec": {
   "display_name": "Python 3.9.7 ('torch-default')",
   "language": "python",
   "name": "python3"
  },
  "language_info": {
   "codemirror_mode": {
    "name": "ipython",
    "version": 3
   },
   "file_extension": ".py",
   "mimetype": "text/x-python",
   "name": "python",
   "nbconvert_exporter": "python",
   "pygments_lexer": "ipython3",
   "version": "3.9.7"
  },
  "orig_nbformat": 4
 },
 "nbformat": 4,
 "nbformat_minor": 2
}
