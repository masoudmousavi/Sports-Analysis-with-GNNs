{
  "nbformat": 4,
  "nbformat_minor": 0,
  "metadata": {
    "colab": {
      "name": "KaggleDataTransformer.ipynb",
      "provenance": [],
      "collapsed_sections": []
    },
    "kernelspec": {
      "name": "python3",
      "display_name": "Python 3"
    },
    "language_info": {
      "name": "python"
    },
    "widgets": {
      "application/vnd.jupyter.widget-state+json": {
        "6ddf7252558746e99a56fca86c7d524e": {
          "model_module": "@jupyter-widgets/controls",
          "model_name": "HBoxModel",
          "model_module_version": "1.5.0",
          "state": {
            "_view_name": "HBoxView",
            "_dom_classes": [],
            "_model_name": "HBoxModel",
            "_view_module": "@jupyter-widgets/controls",
            "_model_module_version": "1.5.0",
            "_view_count": null,
            "_view_module_version": "1.5.0",
            "box_style": "",
            "layout": "IPY_MODEL_62552bd0c0434b3ca4ad4d30b2f7447f",
            "_model_module": "@jupyter-widgets/controls",
            "children": [
              "IPY_MODEL_2b2526ef7beb48a89c7f483924ac1378",
              "IPY_MODEL_f9daefde457a49e1b2a817858aa0c327",
              "IPY_MODEL_5d0af4859b744baaab66c9ae434f33e4"
            ]
          }
        },
        "62552bd0c0434b3ca4ad4d30b2f7447f": {
          "model_module": "@jupyter-widgets/base",
          "model_name": "LayoutModel",
          "model_module_version": "1.2.0",
          "state": {
            "_view_name": "LayoutView",
            "grid_template_rows": null,
            "right": null,
            "justify_content": null,
            "_view_module": "@jupyter-widgets/base",
            "overflow": null,
            "_model_module_version": "1.2.0",
            "_view_count": null,
            "flex_flow": null,
            "width": null,
            "min_width": null,
            "border": null,
            "align_items": null,
            "bottom": null,
            "_model_module": "@jupyter-widgets/base",
            "top": null,
            "grid_column": null,
            "overflow_y": null,
            "overflow_x": null,
            "grid_auto_flow": null,
            "grid_area": null,
            "grid_template_columns": null,
            "flex": null,
            "_model_name": "LayoutModel",
            "justify_items": null,
            "grid_row": null,
            "max_height": null,
            "align_content": null,
            "visibility": null,
            "align_self": null,
            "height": null,
            "min_height": null,
            "padding": null,
            "grid_auto_rows": null,
            "grid_gap": null,
            "max_width": null,
            "order": null,
            "_view_module_version": "1.2.0",
            "grid_template_areas": null,
            "object_position": null,
            "object_fit": null,
            "grid_auto_columns": null,
            "margin": null,
            "display": null,
            "left": null
          }
        },
        "2b2526ef7beb48a89c7f483924ac1378": {
          "model_module": "@jupyter-widgets/controls",
          "model_name": "HTMLModel",
          "model_module_version": "1.5.0",
          "state": {
            "_view_name": "HTMLView",
            "style": "IPY_MODEL_a44e581c79de4df4bc8a5675f38496cb",
            "_dom_classes": [],
            "description": "",
            "_model_name": "HTMLModel",
            "placeholder": "​",
            "_view_module": "@jupyter-widgets/controls",
            "_model_module_version": "1.5.0",
            "value": "100%",
            "_view_count": null,
            "_view_module_version": "1.5.0",
            "description_tooltip": null,
            "_model_module": "@jupyter-widgets/controls",
            "layout": "IPY_MODEL_1e4f93f6445c45019192895f3de33b1b"
          }
        },
        "f9daefde457a49e1b2a817858aa0c327": {
          "model_module": "@jupyter-widgets/controls",
          "model_name": "FloatProgressModel",
          "model_module_version": "1.5.0",
          "state": {
            "_view_name": "ProgressView",
            "style": "IPY_MODEL_4896b4a215d14eaebfd0813a6337d772",
            "_dom_classes": [],
            "description": "",
            "_model_name": "FloatProgressModel",
            "bar_style": "success",
            "max": 21374,
            "_view_module": "@jupyter-widgets/controls",
            "_model_module_version": "1.5.0",
            "value": 21374,
            "_view_count": null,
            "_view_module_version": "1.5.0",
            "orientation": "horizontal",
            "min": 0,
            "description_tooltip": null,
            "_model_module": "@jupyter-widgets/controls",
            "layout": "IPY_MODEL_03f780d76cbc42faa9c91b5ce1ffd158"
          }
        },
        "5d0af4859b744baaab66c9ae434f33e4": {
          "model_module": "@jupyter-widgets/controls",
          "model_name": "HTMLModel",
          "model_module_version": "1.5.0",
          "state": {
            "_view_name": "HTMLView",
            "style": "IPY_MODEL_fd8f7a0e645840e18ef49c27e5f7a1da",
            "_dom_classes": [],
            "description": "",
            "_model_name": "HTMLModel",
            "placeholder": "​",
            "_view_module": "@jupyter-widgets/controls",
            "_model_module_version": "1.5.0",
            "value": " 21374/21374 [00:16&lt;00:00, 1301.98it/s]",
            "_view_count": null,
            "_view_module_version": "1.5.0",
            "description_tooltip": null,
            "_model_module": "@jupyter-widgets/controls",
            "layout": "IPY_MODEL_64d84b9f16524ac8ad50c1665eab3834"
          }
        },
        "a44e581c79de4df4bc8a5675f38496cb": {
          "model_module": "@jupyter-widgets/controls",
          "model_name": "DescriptionStyleModel",
          "model_module_version": "1.5.0",
          "state": {
            "_view_name": "StyleView",
            "_model_name": "DescriptionStyleModel",
            "description_width": "",
            "_view_module": "@jupyter-widgets/base",
            "_model_module_version": "1.5.0",
            "_view_count": null,
            "_view_module_version": "1.2.0",
            "_model_module": "@jupyter-widgets/controls"
          }
        },
        "1e4f93f6445c45019192895f3de33b1b": {
          "model_module": "@jupyter-widgets/base",
          "model_name": "LayoutModel",
          "model_module_version": "1.2.0",
          "state": {
            "_view_name": "LayoutView",
            "grid_template_rows": null,
            "right": null,
            "justify_content": null,
            "_view_module": "@jupyter-widgets/base",
            "overflow": null,
            "_model_module_version": "1.2.0",
            "_view_count": null,
            "flex_flow": null,
            "width": null,
            "min_width": null,
            "border": null,
            "align_items": null,
            "bottom": null,
            "_model_module": "@jupyter-widgets/base",
            "top": null,
            "grid_column": null,
            "overflow_y": null,
            "overflow_x": null,
            "grid_auto_flow": null,
            "grid_area": null,
            "grid_template_columns": null,
            "flex": null,
            "_model_name": "LayoutModel",
            "justify_items": null,
            "grid_row": null,
            "max_height": null,
            "align_content": null,
            "visibility": null,
            "align_self": null,
            "height": null,
            "min_height": null,
            "padding": null,
            "grid_auto_rows": null,
            "grid_gap": null,
            "max_width": null,
            "order": null,
            "_view_module_version": "1.2.0",
            "grid_template_areas": null,
            "object_position": null,
            "object_fit": null,
            "grid_auto_columns": null,
            "margin": null,
            "display": null,
            "left": null
          }
        },
        "4896b4a215d14eaebfd0813a6337d772": {
          "model_module": "@jupyter-widgets/controls",
          "model_name": "ProgressStyleModel",
          "model_module_version": "1.5.0",
          "state": {
            "_view_name": "StyleView",
            "_model_name": "ProgressStyleModel",
            "description_width": "",
            "_view_module": "@jupyter-widgets/base",
            "_model_module_version": "1.5.0",
            "_view_count": null,
            "_view_module_version": "1.2.0",
            "bar_color": null,
            "_model_module": "@jupyter-widgets/controls"
          }
        },
        "03f780d76cbc42faa9c91b5ce1ffd158": {
          "model_module": "@jupyter-widgets/base",
          "model_name": "LayoutModel",
          "model_module_version": "1.2.0",
          "state": {
            "_view_name": "LayoutView",
            "grid_template_rows": null,
            "right": null,
            "justify_content": null,
            "_view_module": "@jupyter-widgets/base",
            "overflow": null,
            "_model_module_version": "1.2.0",
            "_view_count": null,
            "flex_flow": null,
            "width": null,
            "min_width": null,
            "border": null,
            "align_items": null,
            "bottom": null,
            "_model_module": "@jupyter-widgets/base",
            "top": null,
            "grid_column": null,
            "overflow_y": null,
            "overflow_x": null,
            "grid_auto_flow": null,
            "grid_area": null,
            "grid_template_columns": null,
            "flex": null,
            "_model_name": "LayoutModel",
            "justify_items": null,
            "grid_row": null,
            "max_height": null,
            "align_content": null,
            "visibility": null,
            "align_self": null,
            "height": null,
            "min_height": null,
            "padding": null,
            "grid_auto_rows": null,
            "grid_gap": null,
            "max_width": null,
            "order": null,
            "_view_module_version": "1.2.0",
            "grid_template_areas": null,
            "object_position": null,
            "object_fit": null,
            "grid_auto_columns": null,
            "margin": null,
            "display": null,
            "left": null
          }
        },
        "fd8f7a0e645840e18ef49c27e5f7a1da": {
          "model_module": "@jupyter-widgets/controls",
          "model_name": "DescriptionStyleModel",
          "model_module_version": "1.5.0",
          "state": {
            "_view_name": "StyleView",
            "_model_name": "DescriptionStyleModel",
            "description_width": "",
            "_view_module": "@jupyter-widgets/base",
            "_model_module_version": "1.5.0",
            "_view_count": null,
            "_view_module_version": "1.2.0",
            "_model_module": "@jupyter-widgets/controls"
          }
        },
        "64d84b9f16524ac8ad50c1665eab3834": {
          "model_module": "@jupyter-widgets/base",
          "model_name": "LayoutModel",
          "model_module_version": "1.2.0",
          "state": {
            "_view_name": "LayoutView",
            "grid_template_rows": null,
            "right": null,
            "justify_content": null,
            "_view_module": "@jupyter-widgets/base",
            "overflow": null,
            "_model_module_version": "1.2.0",
            "_view_count": null,
            "flex_flow": null,
            "width": null,
            "min_width": null,
            "border": null,
            "align_items": null,
            "bottom": null,
            "_model_module": "@jupyter-widgets/base",
            "top": null,
            "grid_column": null,
            "overflow_y": null,
            "overflow_x": null,
            "grid_auto_flow": null,
            "grid_area": null,
            "grid_template_columns": null,
            "flex": null,
            "_model_name": "LayoutModel",
            "justify_items": null,
            "grid_row": null,
            "max_height": null,
            "align_content": null,
            "visibility": null,
            "align_self": null,
            "height": null,
            "min_height": null,
            "padding": null,
            "grid_auto_rows": null,
            "grid_gap": null,
            "max_width": null,
            "order": null,
            "_view_module_version": "1.2.0",
            "grid_template_areas": null,
            "object_position": null,
            "object_fit": null,
            "grid_auto_columns": null,
            "margin": null,
            "display": null,
            "left": null
          }
        }
      }
    }
  },
  "cells": [
    {
      "cell_type": "markdown",
      "metadata": {
        "id": "PvhVyEZj_ys9"
      },
      "source": [
        "# Downloading Data Into Drive"
      ]
    },
    {
      "cell_type": "code",
      "metadata": {
        "id": "9mKxcv4Z-sY7",
        "colab": {
          "base_uri": "https://localhost:8080/"
        },
        "cellView": "form",
        "outputId": "a0c76bd7-961d-416a-89fc-c5c4019fb3e4"
      },
      "source": [
        "#@title Mount Drive {form-width: \"20%\"}\n",
        "from google.colab import drive\n",
        "drive.mount('/content/gdrive')"
      ],
      "execution_count": 1,
      "outputs": [
        {
          "output_type": "stream",
          "name": "stdout",
          "text": [
            "Mounted at /content/gdrive\n"
          ]
        }
      ]
    },
    {
      "cell_type": "code",
      "metadata": {
        "id": "NNIUVbgHBvOO",
        "cellView": "form"
      },
      "source": [
        "#@title Set Kaggle Env Var {form-width: \"20%\"}\n",
        "import os\n",
        "os.environ['KAGGLE_CONFIG_DIR'] = \"/content/gdrive/MyDrive/Colab Notebooks/KaggleData/\""
      ],
      "execution_count": null,
      "outputs": []
    },
    {
      "cell_type": "code",
      "metadata": {
        "colab": {
          "base_uri": "https://localhost:8080/"
        },
        "cellView": "form",
        "id": "Dd_p4UHh_mRw",
        "outputId": "9aa5d36b-1a75-456d-bf24-fc96d11d8596"
      },
      "source": [
        "#@title cd {form-width: \"20%\"}\n",
        "%cd /content/gdrive/MyDrive/Colab Notebooks/KaggleData"
      ],
      "execution_count": 2,
      "outputs": [
        {
          "output_type": "stream",
          "name": "stdout",
          "text": [
            "/content/gdrive/MyDrive/Colab Notebooks/KaggleData\n"
          ]
        }
      ]
    },
    {
      "cell_type": "code",
      "metadata": {
        "id": "nDvlzTNbBvdl",
        "cellView": "form"
      },
      "source": [
        "#@title Downloading and unziping from Kaggle {form-width: \"20%\"}\n",
        "!kaggle datasets download -d hugomathien/soccer\n",
        "!unzip soccer.zip"
      ],
      "execution_count": null,
      "outputs": []
    },
    {
      "cell_type": "markdown",
      "metadata": {
        "id": "qBHNFtDjE_DJ"
      },
      "source": [
        "# Pandas"
      ]
    },
    {
      "cell_type": "code",
      "metadata": {
        "id": "UCpUivgYBvj_",
        "cellView": "form"
      },
      "source": [
        "#@title Load sqlite into Pandas DF {form-width: \"20%\"}\n",
        "import pandas as pd\n",
        "import sqlite3\n",
        "\n",
        "con = sqlite3.connect('database.sqlite')\n",
        "\n",
        "\n",
        "#Loads Match Table\n",
        "query = '''\n",
        "select *\n",
        "from Match\n",
        "where match.home_player_1 is not null and match.home_player_2 is not null and match.home_player_3 is not null and match.home_player_4 is not null and match.home_player_5 is not null and match.home_player_6 is not null and match.home_player_7 is not null and match.home_player_8 is not null and match.home_player_9 is not null and match.home_player_10 is not null and match.home_player_11 is not null\n",
        "and match.away_player_1 is not null and match.away_player_2 is not null and match.away_player_3 is not null and match.away_player_4 is not null and match.away_player_5 is not null and match.away_player_6 is not null and match.away_player_7 is not null and match.away_player_8 is not null and match.away_player_9 is not null and match.away_player_10 is not null and match.away_player_11 is not null \n",
        "order by league_id, season, stage\n",
        "'''\n",
        "Match_dataframe = pd.read_sql_query(query, con)\n",
        "\n",
        "\n",
        "#Loads Player Table\n",
        "query = '''\n",
        "select *\n",
        "from Player\n",
        "'''\n",
        "Player_dataframe = pd.read_sql_query(query, con).set_index('player_api_id')\n",
        "\n",
        "\n",
        "#Loads Team Table\n",
        "query = '''\n",
        "select *\n",
        "from Team\n",
        "'''\n",
        "Team_dataframe = pd.read_sql_query(query, con).set_index('team_api_id')\n",
        "\n",
        "#Loads League Table\n",
        "query = '''\n",
        "select *\n",
        "from League\n",
        "'''\n",
        "League_dataframe = pd.read_sql_query(query, con).set_index('id')\n",
        "\n",
        "#Loads Country Table\n",
        "query = '''\n",
        "select *\n",
        "from Country\n",
        "'''\n",
        "Country_dataframe = pd.read_sql_query(query, con).set_index('id')"
      ],
      "execution_count": 3,
      "outputs": []
    },
    {
      "cell_type": "code",
      "metadata": {
        "colab": {
          "base_uri": "https://localhost:8080/",
          "height": 49,
          "referenced_widgets": [
            "6ddf7252558746e99a56fca86c7d524e",
            "62552bd0c0434b3ca4ad4d30b2f7447f",
            "2b2526ef7beb48a89c7f483924ac1378",
            "f9daefde457a49e1b2a817858aa0c327",
            "5d0af4859b744baaab66c9ae434f33e4",
            "a44e581c79de4df4bc8a5675f38496cb",
            "1e4f93f6445c45019192895f3de33b1b",
            "4896b4a215d14eaebfd0813a6337d772",
            "03f780d76cbc42faa9c91b5ce1ffd158",
            "fd8f7a0e645840e18ef49c27e5f7a1da",
            "64d84b9f16524ac8ad50c1665eab3834"
          ]
        },
        "id": "Zw2t_zMzAnLW",
        "outputId": "638b8516-44df-4eae-8d89-73fe009289cd"
      },
      "source": [
        "#@title Create New DF for Customized Data {form-width: \"20%\"}\n",
        "from tqdm.notebook import tqdm\n",
        "data_columns = ['match_id', 'country', 'league', 'season', 'week', 'date', 'home_team', 'away_team', 'home_goal', 'away_goal', 'result', 'home_lineup', 'away_lineup']\n",
        "datalist = []\n",
        "corrupted = 0\n",
        "strip_chars = '123456789., '\n",
        "for _, match in tqdm(Match_dataframe.iterrows(), total= Match_dataframe.shape[0]):\n",
        "  rowlist = [match['id']]\n",
        "  rowlist.append(Country_dataframe['name'].loc[match['country_id']])\n",
        "  rowlist.append(League_dataframe['name'].loc[match['league_id']])\n",
        "  rowlist.append(match['season'])\n",
        "  rowlist.append(match['stage'])\n",
        "  rowlist.append(match['date'])\n",
        "  rowlist.append(Team_dataframe['team_long_name'].loc[match['home_team_api_id']].strip(strip_chars))\n",
        "  rowlist.append(Team_dataframe['team_long_name'].loc[match['away_team_api_id']].strip(strip_chars))\n",
        "  rowlist.append(match['home_team_goal'])\n",
        "  rowlist.append(match['away_team_goal'])\n",
        "  \n",
        "  result = match['home_team_goal'] - match['away_team_goal']\n",
        "  result = 'home' if result>0 else 'tie' if result == 0 else 'away'\n",
        "  rowlist.append(result)\n",
        "\n",
        "  hline = []\n",
        "  aline = []\n",
        "  for i in range(11):\n",
        "    hline.append(Player_dataframe['player_name'].loc[match[f\"home_player_{i+1}\"]].strip(strip_chars))\n",
        "    aline.append(Player_dataframe['player_name'].loc[match[f\"away_player_{i+1}\"]].strip(strip_chars))\n",
        "  \n",
        "  if len(set(hline + aline)) < 22:\n",
        "    corrupted += 1\n",
        "    continue\n",
        "\n",
        "  rowlist.append(' - '.join(hline))\n",
        "  rowlist.append(' - '.join(aline))\n",
        "  #print(rowlist)\n",
        "  datalist.append(rowlist)\n",
        "\n",
        "Clean_datafram = pd.DataFrame(datalist, columns=data_columns)"
      ],
      "execution_count": 4,
      "outputs": [
        {
          "output_type": "display_data",
          "data": {
            "application/vnd.jupyter.widget-view+json": {
              "model_id": "6ddf7252558746e99a56fca86c7d524e",
              "version_minor": 0,
              "version_major": 2
            },
            "text/plain": [
              "  0%|          | 0/21374 [00:00<?, ?it/s]"
            ]
          },
          "metadata": {}
        }
      ]
    },
    {
      "cell_type": "code",
      "metadata": {
        "colab": {
          "base_uri": "https://localhost:8080/"
        },
        "id": "DWTmDCaFAWe9",
        "outputId": "69d4104a-8e60-4bf0-bb9a-27d2f737bb45"
      },
      "source": [
        "corrupted"
      ],
      "execution_count": null,
      "outputs": [
        {
          "output_type": "execute_result",
          "data": {
            "text/plain": [
              "65"
            ]
          },
          "metadata": {},
          "execution_count": 5
        }
      ]
    },
    {
      "cell_type": "code",
      "metadata": {
        "id": "1NwAsAzQkHY1"
      },
      "source": [
        "#@title Save to csv file {form-width: \"20%\"}\n",
        "Clean_datafram.to_csv('KaggleDataset.csv', index= False)"
      ],
      "execution_count": 5,
      "outputs": []
    }
  ]
}