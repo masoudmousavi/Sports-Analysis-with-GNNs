{
 "cells": [
  {
   "cell_type": "code",
   "execution_count": 65,
   "id": "0e86df6c",
   "metadata": {},
   "outputs": [],
   "source": [
    "import pandas as pd\n",
    "import pandasql as ps\n",
    "import numpy as np"
   ]
  },
  {
   "cell_type": "code",
   "execution_count": 12,
   "id": "1e721e06",
   "metadata": {
    "scrolled": false
   },
   "outputs": [],
   "source": [
    "teams = pd.read_csv('./Team_nodes.csv')"
   ]
  },
  {
   "cell_type": "code",
   "execution_count": 58,
   "id": "4b270ee3",
   "metadata": {},
   "outputs": [
    {
     "data": {
      "text/plain": [
       "Index(['postGame_side', 'postGame_goals_scored', 'postGame_goals_conceded',\n",
       "       'postGame_index', 'postGame_total_shots', 'postGame_total_xg',\n",
       "       'postGame_total_big_chances', 'postGame_total_key_passes',\n",
       "       'competitionId', 'gameId', 'teamId', 'preGame_steph',\n",
       "       'preGame_quality_overall', 'preGame_quality_attack',\n",
       "       'preGame_quality_midfield', 'preGame_quality_defence',\n",
       "       'preGame_proportion_pts', 'gameDate', 'teamName', 'competitionName',\n",
       "       'nodeId', 'nodeName'],\n",
       "      dtype='object')"
      ]
     },
     "execution_count": 58,
     "metadata": {},
     "output_type": "execute_result"
    }
   ],
   "source": [
    "teams.columns"
   ]
  },
  {
   "cell_type": "code",
   "execution_count": 103,
   "id": "b8b9f124",
   "metadata": {},
   "outputs": [],
   "source": [
    "query = \"\"\"\n",
    "    select * \n",
    "    from teams\n",
    "    order by gameDate, teamName\n",
    "\"\"\"\n",
    "teams = ps.sqldf(query)"
   ]
  },
  {
   "cell_type": "code",
   "execution_count": 129,
   "id": "87fe61bd",
   "metadata": {},
   "outputs": [],
   "source": [
    "query = \"select teamName,\"\n",
    "_columns = ['postGame_side',\n",
    "       'competitionId', 'gameId', 'teamId', 'preGame_steph',\n",
    "       'preGame_quality_overall', 'preGame_quality_attack',\n",
    "       'preGame_quality_midfield', 'preGame_quality_defence',\n",
    "       'preGame_proportion_pts', 'gameDate', 'teamName', 'competitionName',\n",
    "       'nodeId', 'nodeName']\n",
    "post_columns = ['postGame_goals_scored', 'postGame_goals_conceded',\n",
    "       'postGame_index', 'postGame_total_shots', 'postGame_total_xg',\n",
    "       'postGame_total_big_chances', 'postGame_total_key_passes']\n",
    "for column in _columns:\n",
    "    q_plus = f\"\"\"\n",
    "        {column},\n",
    "    \"\"\"\n",
    "    query += q_plus\n",
    "for i, column in enumerate(post_columns):\n",
    "    try:\n",
    "        columns[i+1]\n",
    "        sep = ',' \n",
    "    except IndexError:\n",
    "        sep = ''\n",
    "    q_plus = f\"\"\"\n",
    "                {column},\n",
    "                avg({column}) over (\n",
    "                    partition by teamName rows between unbounded preceding\n",
    "                    and 1 preceding\n",
    "                ) as agg_{column}{sep}\n",
    "            \"\"\"\n",
    "    query += q_plus\n",
    "\n",
    "query += \"\"\"\n",
    "    from teams\n",
    "    order by gameDate, teamName\n",
    "\"\"\"\n",
    "features = ps.sqldf(query)\n",
    "features.to_csv('team_nodes_plus_features.csv')"
   ]
  }
 ],
 "metadata": {
  "kernelspec": {
   "display_name": "Python 3 (ipykernel)",
   "language": "python",
   "name": "python3"
  },
  "language_info": {
   "codemirror_mode": {
    "name": "ipython",
    "version": 3
   },
   "file_extension": ".py",
   "mimetype": "text/x-python",
   "name": "python",
   "nbconvert_exporter": "python",
   "pygments_lexer": "ipython3",
   "version": "3.9.7"
  }
 },
 "nbformat": 4,
 "nbformat_minor": 5
}
