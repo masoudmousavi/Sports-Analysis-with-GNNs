{
  "nbformat": 4,
  "nbformat_minor": 0,
  "metadata": {
    "colab": {
      "name": "Con for ST-Graph.ipynb",
      "provenance": [],
      "collapsed_sections": [
        "EMdxIrqRppVn",
        "fozYVdPwfEwu",
        "zE1YPuvyjUK1",
        "FT6YGEj8irWa",
        "UoGg2JC3i38y",
        "spG_wCoAi7eH",
        "vCJmRSz8v8zh",
        "Q5jh2y_5ZoGM",
        "_T6Maf0ih4aX",
        "7Iwt9CI3h9VS",
        "OdLznGo3iWKQ",
        "_sI6Av5QxyXQ",
        "8qnLJofVZOx9",
        "J4cYt8MAZdDq",
        "M5_hxVcKpDVW",
        "3Ah2Pp24mNI0"
      ]
    },
    "kernelspec": {
      "name": "python3",
      "display_name": "Python 3"
    },
    "language_info": {
      "name": "python"
    }
  },
  "cells": [
    {
      "cell_type": "markdown",
      "source": [
        "# Prep"
      ],
      "metadata": {
        "id": "EMdxIrqRppVn"
      }
    },
    {
      "cell_type": "code",
      "execution_count": 1,
      "metadata": {
        "colab": {
          "base_uri": "https://localhost:8080/"
        },
        "id": "kdwVXPdmdM9K",
        "outputId": "1c65eea9-2fe6-4013-950b-4d721451155b"
      },
      "outputs": [
        {
          "output_type": "stream",
          "name": "stdout",
          "text": [
            "Mounted at /content/drive\n"
          ]
        }
      ],
      "source": [
        "from google.colab import drive\n",
        "drive.mount('/content/drive')"
      ]
    },
    {
      "cell_type": "code",
      "source": [
        "% cd drive/MyDrive/sp/data\n",
        "! ls"
      ],
      "metadata": {
        "colab": {
          "base_uri": "https://localhost:8080/"
        },
        "id": "WHzA58wDeALK",
        "outputId": "9ba7a2e7-268c-47b2-8a9d-56e3b58167e2"
      },
      "execution_count": 2,
      "outputs": [
        {
          "output_type": "stream",
          "name": "stdout",
          "text": [
            "/content/drive/MyDrive/sp/data\n",
            "FakeData_EPL.csv   KaggleDataset_withBO.txt  PL_scraped_ord.csv\n",
            "KaggleDataset.csv  old_FakeData_EPL.csv\n"
          ]
        }
      ]
    },
    {
      "cell_type": "code",
      "source": [
        "import pandas as pd\n",
        "import numpy as np\n",
        "from sklearn.model_selection import train_test_split\n",
        "from sklearn.preprocessing import LabelEncoder\n",
        "import torch\n",
        "from torch.nn import Embedding,\\\n",
        "                     Module,\\\n",
        "                     Linear,\\\n",
        "                     Dropout,\\\n",
        "                     Tanh,\\\n",
        "                     BatchNorm1d,\\\n",
        "                     LogSoftmax,\\\n",
        "                     NLLLoss\n",
        "import torch.nn.functional as F"
      ],
      "metadata": {
        "id": "qaMftWi6eS3u"
      },
      "execution_count": 3,
      "outputs": []
    },
    {
      "cell_type": "markdown",
      "source": [
        "# Dataset"
      ],
      "metadata": {
        "id": "fozYVdPwfEwu"
      }
    },
    {
      "cell_type": "code",
      "source": [
        "dataset = pd.read_csv('KaggleDataset_withBO.txt')\n",
        "dataset.tail(3)"
      ],
      "metadata": {
        "colab": {
          "base_uri": "https://localhost:8080/",
          "height": 0
        },
        "id": "2DfyqkW2fG_-",
        "outputId": "b5f96e70-64da-4888-931b-c17fc923d61a"
      },
      "execution_count": 4,
      "outputs": [
        {
          "output_type": "execute_result",
          "data": {
            "text/html": [
              "\n",
              "  <div id=\"df-49df9cfb-e8ed-42e1-9722-eefd7ff4183a\">\n",
              "    <div class=\"colab-df-container\">\n",
              "      <div>\n",
              "<style scoped>\n",
              "    .dataframe tbody tr th:only-of-type {\n",
              "        vertical-align: middle;\n",
              "    }\n",
              "\n",
              "    .dataframe tbody tr th {\n",
              "        vertical-align: top;\n",
              "    }\n",
              "\n",
              "    .dataframe thead th {\n",
              "        text-align: right;\n",
              "    }\n",
              "</style>\n",
              "<table border=\"1\" class=\"dataframe\">\n",
              "  <thead>\n",
              "    <tr style=\"text-align: right;\">\n",
              "      <th></th>\n",
              "      <th>match_id</th>\n",
              "      <th>country</th>\n",
              "      <th>league</th>\n",
              "      <th>season</th>\n",
              "      <th>week</th>\n",
              "      <th>date</th>\n",
              "      <th>home_team</th>\n",
              "      <th>away_team</th>\n",
              "      <th>home_goal</th>\n",
              "      <th>away_goal</th>\n",
              "      <th>result</th>\n",
              "      <th>home_lineup</th>\n",
              "      <th>away_lineup</th>\n",
              "      <th>B365H</th>\n",
              "      <th>B365D</th>\n",
              "      <th>B365A</th>\n",
              "      <th>BWH</th>\n",
              "      <th>BWD</th>\n",
              "      <th>BWA</th>\n",
              "      <th>IWH</th>\n",
              "      <th>IWD</th>\n",
              "      <th>IWA</th>\n",
              "      <th>LBH</th>\n",
              "      <th>LBD</th>\n",
              "      <th>LBA</th>\n",
              "    </tr>\n",
              "  </thead>\n",
              "  <tbody>\n",
              "    <tr>\n",
              "      <th>19524</th>\n",
              "      <td>24495</td>\n",
              "      <td>Spain</td>\n",
              "      <td>Spain LIGA BBVA</td>\n",
              "      <td>2015/2016</td>\n",
              "      <td>38</td>\n",
              "      <td>2016-05-15 00:00:00</td>\n",
              "      <td>Málaga CF</td>\n",
              "      <td>UD Las Palmas</td>\n",
              "      <td>4</td>\n",
              "      <td>1</td>\n",
              "      <td>win</td>\n",
              "      <td>Guillermo Ochoa - Miguel Torres - Raul Albento...</td>\n",
              "      <td>Raul Lizoain - David Garcia - Pedro Bigas - Pa...</td>\n",
              "      <td>1.80</td>\n",
              "      <td>3.75</td>\n",
              "      <td>4.5</td>\n",
              "      <td>1.83</td>\n",
              "      <td>3.70</td>\n",
              "      <td>4.00</td>\n",
              "      <td>1.85</td>\n",
              "      <td>3.45</td>\n",
              "      <td>4.0</td>\n",
              "      <td>1.80</td>\n",
              "      <td>3.60</td>\n",
              "      <td>4.33</td>\n",
              "    </tr>\n",
              "    <tr>\n",
              "      <th>19525</th>\n",
              "      <td>24496</td>\n",
              "      <td>Spain</td>\n",
              "      <td>Spain LIGA BBVA</td>\n",
              "      <td>2015/2016</td>\n",
              "      <td>38</td>\n",
              "      <td>2016-05-14 00:00:00</td>\n",
              "      <td>Atlético Madrid</td>\n",
              "      <td>RC Celta de Vigo</td>\n",
              "      <td>2</td>\n",
              "      <td>0</td>\n",
              "      <td>win</td>\n",
              "      <td>Jan Oblak - Juanfran - Stefan Savic - Diego Go...</td>\n",
              "      <td>Sergio Alvarez - Johny - Hugo Mallo - Sergi Go...</td>\n",
              "      <td>1.75</td>\n",
              "      <td>3.75</td>\n",
              "      <td>4.5</td>\n",
              "      <td>1.83</td>\n",
              "      <td>3.60</td>\n",
              "      <td>4.10</td>\n",
              "      <td>1.85</td>\n",
              "      <td>3.70</td>\n",
              "      <td>3.7</td>\n",
              "      <td>1.83</td>\n",
              "      <td>3.60</td>\n",
              "      <td>4.20</td>\n",
              "    </tr>\n",
              "    <tr>\n",
              "      <th>19526</th>\n",
              "      <td>24497</td>\n",
              "      <td>Spain</td>\n",
              "      <td>Spain LIGA BBVA</td>\n",
              "      <td>2015/2016</td>\n",
              "      <td>38</td>\n",
              "      <td>2016-05-15 00:00:00</td>\n",
              "      <td>Rayo Vallecano</td>\n",
              "      <td>Levante UD</td>\n",
              "      <td>3</td>\n",
              "      <td>1</td>\n",
              "      <td>win</td>\n",
              "      <td>Yoel Rodriguez - Quini - Antonio Amaya - Tito ...</td>\n",
              "      <td>Diego Marino - Ivan Lopez - David Navarro - Ca...</td>\n",
              "      <td>1.33</td>\n",
              "      <td>5.25</td>\n",
              "      <td>9.0</td>\n",
              "      <td>1.33</td>\n",
              "      <td>4.75</td>\n",
              "      <td>9.25</td>\n",
              "      <td>1.40</td>\n",
              "      <td>5.00</td>\n",
              "      <td>6.0</td>\n",
              "      <td>1.33</td>\n",
              "      <td>5.25</td>\n",
              "      <td>9.00</td>\n",
              "    </tr>\n",
              "  </tbody>\n",
              "</table>\n",
              "</div>\n",
              "      <button class=\"colab-df-convert\" onclick=\"convertToInteractive('df-49df9cfb-e8ed-42e1-9722-eefd7ff4183a')\"\n",
              "              title=\"Convert this dataframe to an interactive table.\"\n",
              "              style=\"display:none;\">\n",
              "        \n",
              "  <svg xmlns=\"http://www.w3.org/2000/svg\" height=\"24px\"viewBox=\"0 0 24 24\"\n",
              "       width=\"24px\">\n",
              "    <path d=\"M0 0h24v24H0V0z\" fill=\"none\"/>\n",
              "    <path d=\"M18.56 5.44l.94 2.06.94-2.06 2.06-.94-2.06-.94-.94-2.06-.94 2.06-2.06.94zm-11 1L8.5 8.5l.94-2.06 2.06-.94-2.06-.94L8.5 2.5l-.94 2.06-2.06.94zm10 10l.94 2.06.94-2.06 2.06-.94-2.06-.94-.94-2.06-.94 2.06-2.06.94z\"/><path d=\"M17.41 7.96l-1.37-1.37c-.4-.4-.92-.59-1.43-.59-.52 0-1.04.2-1.43.59L10.3 9.45l-7.72 7.72c-.78.78-.78 2.05 0 2.83L4 21.41c.39.39.9.59 1.41.59.51 0 1.02-.2 1.41-.59l7.78-7.78 2.81-2.81c.8-.78.8-2.07 0-2.86zM5.41 20L4 18.59l7.72-7.72 1.47 1.35L5.41 20z\"/>\n",
              "  </svg>\n",
              "      </button>\n",
              "      \n",
              "  <style>\n",
              "    .colab-df-container {\n",
              "      display:flex;\n",
              "      flex-wrap:wrap;\n",
              "      gap: 12px;\n",
              "    }\n",
              "\n",
              "    .colab-df-convert {\n",
              "      background-color: #E8F0FE;\n",
              "      border: none;\n",
              "      border-radius: 50%;\n",
              "      cursor: pointer;\n",
              "      display: none;\n",
              "      fill: #1967D2;\n",
              "      height: 32px;\n",
              "      padding: 0 0 0 0;\n",
              "      width: 32px;\n",
              "    }\n",
              "\n",
              "    .colab-df-convert:hover {\n",
              "      background-color: #E2EBFA;\n",
              "      box-shadow: 0px 1px 2px rgba(60, 64, 67, 0.3), 0px 1px 3px 1px rgba(60, 64, 67, 0.15);\n",
              "      fill: #174EA6;\n",
              "    }\n",
              "\n",
              "    [theme=dark] .colab-df-convert {\n",
              "      background-color: #3B4455;\n",
              "      fill: #D2E3FC;\n",
              "    }\n",
              "\n",
              "    [theme=dark] .colab-df-convert:hover {\n",
              "      background-color: #434B5C;\n",
              "      box-shadow: 0px 1px 3px 1px rgba(0, 0, 0, 0.15);\n",
              "      filter: drop-shadow(0px 1px 2px rgba(0, 0, 0, 0.3));\n",
              "      fill: #FFFFFF;\n",
              "    }\n",
              "  </style>\n",
              "\n",
              "      <script>\n",
              "        const buttonEl =\n",
              "          document.querySelector('#df-49df9cfb-e8ed-42e1-9722-eefd7ff4183a button.colab-df-convert');\n",
              "        buttonEl.style.display =\n",
              "          google.colab.kernel.accessAllowed ? 'block' : 'none';\n",
              "\n",
              "        async function convertToInteractive(key) {\n",
              "          const element = document.querySelector('#df-49df9cfb-e8ed-42e1-9722-eefd7ff4183a');\n",
              "          const dataTable =\n",
              "            await google.colab.kernel.invokeFunction('convertToInteractive',\n",
              "                                                     [key], {});\n",
              "          if (!dataTable) return;\n",
              "\n",
              "          const docLinkHtml = 'Like what you see? Visit the ' +\n",
              "            '<a target=\"_blank\" href=https://colab.research.google.com/notebooks/data_table.ipynb>data table notebook</a>'\n",
              "            + ' to learn more about interactive tables.';\n",
              "          element.innerHTML = '';\n",
              "          dataTable['output_type'] = 'display_data';\n",
              "          await google.colab.output.renderOutput(dataTable, element);\n",
              "          const docLink = document.createElement('div');\n",
              "          docLink.innerHTML = docLinkHtml;\n",
              "          element.appendChild(docLink);\n",
              "        }\n",
              "      </script>\n",
              "    </div>\n",
              "  </div>\n",
              "  "
            ],
            "text/plain": [
              "       match_id country           league     season  ...  IWA   LBH   LBD   LBA\n",
              "19524     24495   Spain  Spain LIGA BBVA  2015/2016  ...  4.0  1.80  3.60  4.33\n",
              "19525     24496   Spain  Spain LIGA BBVA  2015/2016  ...  3.7  1.83  3.60  4.20\n",
              "19526     24497   Spain  Spain LIGA BBVA  2015/2016  ...  6.0  1.33  5.25  9.00\n",
              "\n",
              "[3 rows x 25 columns]"
            ]
          },
          "metadata": {},
          "execution_count": 4
        }
      ]
    },
    {
      "cell_type": "markdown",
      "source": [
        "# Dataset Transform"
      ],
      "metadata": {
        "id": "zE1YPuvyjUK1"
      }
    },
    {
      "cell_type": "markdown",
      "source": [
        "## Label Setting"
      ],
      "metadata": {
        "id": "FT6YGEj8irWa"
      }
    },
    {
      "cell_type": "code",
      "source": [
        "teams = np.unique(dataset[['away_team', 'home_team']].values)\n",
        "team_lblenc = LabelEncoder()\n",
        "team_lblenc.fit(teams)\n",
        "\n",
        "players = np.unique(\n",
        "    np.concatenate(\n",
        "      (\n",
        "        np.stack(dataset['home_lineup'].apply(lambda lineup: lineup.split(' - '))).reshape(-1),\n",
        "        np.stack(dataset['away_lineup'].apply(lambda lineup: lineup.split(' - '))).reshape(-1)\n",
        "      )    \n",
        "    )\n",
        ")\n",
        "player_lblenc = LabelEncoder()\n",
        "player_lblenc.fit(players)\n",
        "\n",
        "results = pd.unique(dataset['result'])\n",
        "result_lblenc = LabelEncoder()\n",
        "result_lblenc.fit(results)"
      ],
      "metadata": {
        "colab": {
          "base_uri": "https://localhost:8080/"
        },
        "id": "_nap9UECj7CW",
        "outputId": "acdd0f24-3ec8-466a-b3e7-edb24c6a61a6"
      },
      "execution_count": 5,
      "outputs": [
        {
          "output_type": "execute_result",
          "data": {
            "text/plain": [
              "LabelEncoder()"
            ]
          },
          "metadata": {},
          "execution_count": 5
        }
      ]
    },
    {
      "cell_type": "markdown",
      "source": [
        "## Labeling"
      ],
      "metadata": {
        "id": "UoGg2JC3i38y"
      }
    },
    {
      "cell_type": "code",
      "source": [
        "home_team_labels = team_lblenc.transform(dataset['home_team'])\n",
        "away_team_labels = team_lblenc.transform(dataset['away_team'])\n",
        "\n",
        "home_player_labels = player_lblenc.transform(\n",
        "     np.stack(dataset['home_lineup'].apply(lambda lineup: lineup.split(' - '))).reshape(-1)\n",
        ").reshape(-1, 11)\n",
        "away_player_labels = player_lblenc.transform(\n",
        "     np.stack(dataset['away_lineup'].apply(lambda lineup: lineup.split(' - '))).reshape(-1)\n",
        ").reshape(-1, 11)\n",
        "\n",
        "result_labels = result_lblenc.transform(dataset['result'])\n",
        "\n"
      ],
      "metadata": {
        "id": "CWG14naFlwGL"
      },
      "execution_count": 6,
      "outputs": []
    },
    {
      "cell_type": "code",
      "source": [
        "str_home_players = np.char.mod('%d', home_player_labels)\n",
        "str_home_player_labels = np.apply_along_axis(lambda arr: ' - '.join(arr), axis=1, arr=str_home_players)\n",
        "\n",
        "str_away_players = np.char.mod('%d', away_player_labels)\n",
        "str_away_player_labels = np.apply_along_axis(lambda arr: ' - '.join(arr), axis=1, arr=str_away_players)"
      ],
      "metadata": {
        "id": "hhuYq5FOskCy"
      },
      "execution_count": 7,
      "outputs": []
    },
    {
      "cell_type": "markdown",
      "source": [
        "## Creating dataset"
      ],
      "metadata": {
        "id": "spG_wCoAi7eH"
      }
    },
    {
      "cell_type": "code",
      "source": [
        "meta_dict = {\n",
        "        'home_team_label': home_team_labels,\n",
        "        'away_team_label': away_team_labels,\n",
        "        'result_label': result_labels,\n",
        "        'home_lineup_label': str_home_player_labels,\n",
        "        'away_lineup_label': str_away_player_labels,\n",
        "}\n",
        "\n",
        "for column in dataset.columns:\n",
        "  meta_dict.update({column: dataset[column].values})\n",
        "\n",
        "transformed_dataset = pd.DataFrame(\n",
        "    meta_dict\n",
        ")"
      ],
      "metadata": {
        "id": "XO4z9soprWkX"
      },
      "execution_count": 8,
      "outputs": []
    },
    {
      "cell_type": "markdown",
      "source": [
        "# Dataset Split"
      ],
      "metadata": {
        "id": "vCJmRSz8v8zh"
      }
    },
    {
      "cell_type": "code",
      "source": [
        "train_groups = []\n",
        "dev_groups = []\n",
        "test_groups = []\n",
        "batch_size = 64\n",
        "for league, data in transformed_dataset.groupby('league'):\n",
        "  split_size = int(data.shape[0] * 0.63 // batch_size * batch_size)\n",
        "  # split_size = int(data.shape[0] * 0.6)\n",
        "  train_set, dev_test = train_test_split(data, shuffle=False, stratify=None, train_size=split_size)\n",
        "  dev_set, test_set = train_test_split(dev_test, shuffle=False, stratify=None, train_size=0.5)\n",
        "\n",
        "  print(league)\n",
        "  print('Train Dev Test')\n",
        "  print(train_set.shape[0], dev_set.shape[0], test_set.shape[0])\n",
        "  print(f'{train_set.shape[0] / data.shape[0] * 100:.2f}%, {dev_set.shape[0] / data.shape[0] * 100:.2f}%, {test_set.shape[0] / data.shape[0] * 100:.2f}%')\n",
        "  print('-' * 24)\n",
        "\n",
        "  train_groups.append(train_set)\n",
        "  dev_groups.append(dev_set)\n",
        "  test_groups.append(test_set)"
      ],
      "metadata": {
        "id": "ocgZ8Gw-wBMx",
        "colab": {
          "base_uri": "https://localhost:8080/"
        },
        "outputId": "e6770d56-adec-4d9d-d1bf-a47eb1f8967d"
      },
      "execution_count": 92,
      "outputs": [
        {
          "output_type": "stream",
          "name": "stdout",
          "text": [
            "Belgium Jupiler League\n",
            "Train Dev Test\n",
            "704 238 239\n",
            "59.61%, 20.15%, 20.24%\n",
            "------------------------\n",
            "England Premier League\n",
            "Train Dev Test\n",
            "1856 549 549\n",
            "62.83%, 18.58%, 18.58%\n",
            "------------------------\n",
            "France Ligue 1\n",
            "Train Dev Test\n",
            "1792 531 532\n",
            "62.77%, 18.60%, 18.63%\n",
            "------------------------\n",
            "Germany 1. Bundesliga\n",
            "Train Dev Test\n",
            "1472 448 448\n",
            "62.16%, 18.92%, 18.92%\n",
            "------------------------\n",
            "Italy Serie A\n",
            "Train Dev Test\n",
            "1664 520 520\n",
            "61.54%, 19.23%, 19.23%\n",
            "------------------------\n",
            "Netherlands Eredivisie\n",
            "Train Dev Test\n",
            "1216 401 402\n",
            "60.23%, 19.86%, 19.91%\n",
            "------------------------\n",
            "Portugal Liga ZON Sagres\n",
            "Train Dev Test\n",
            "768 231 231\n",
            "62.44%, 18.78%, 18.78%\n",
            "------------------------\n",
            "Scotland Premier League\n",
            "Train Dev Test\n",
            "960 284 285\n",
            "62.79%, 18.57%, 18.64%\n",
            "------------------------\n",
            "Spain LIGA BBVA\n",
            "Train Dev Test\n",
            "1664 511 512\n",
            "61.93%, 19.02%, 19.05%\n",
            "------------------------\n"
          ]
        }
      ]
    },
    {
      "cell_type": "markdown",
      "source": [
        "# Optimization and Evaluation Algorithms"
      ],
      "metadata": {
        "id": "Q5jh2y_5ZoGM"
      }
    },
    {
      "cell_type": "markdown",
      "source": [
        "## Training"
      ],
      "metadata": {
        "id": "_T6Maf0ih4aX"
      }
    },
    {
      "cell_type": "code",
      "source": [
        "def train(model, optimizer, home, away, y, loss_fn):\n",
        "  model.train()\n",
        "  optimizer.zero_grad()\n",
        "\n",
        "  output = model(home, away) # forward prop\n",
        "  loss = loss_fn(output, y) # loss\n",
        "  loss.backward() # backprop\n",
        "  optimizer.step() # parameter updating\n",
        "\n",
        "  return loss.item()"
      ],
      "metadata": {
        "id": "m2iuZVfvh6kC"
      },
      "execution_count": null,
      "outputs": []
    },
    {
      "cell_type": "markdown",
      "source": [
        "## Evaluating"
      ],
      "metadata": {
        "id": "7Iwt9CI3h9VS"
      }
    },
    {
      "cell_type": "code",
      "source": [
        "@torch.no_grad()\n",
        "def evaluate(model, home, away, y):\n",
        "  model.eval()\n",
        "\n",
        "  output = model(home, away)\n",
        "  prediction = output.argmax(-1)\n",
        "\n",
        "  correct = (prediction == y).sum()\n",
        "\n",
        "  return correct.item(), y.shape[0]"
      ],
      "metadata": {
        "id": "LQX5q0YOiBJN"
      },
      "execution_count": null,
      "outputs": []
    },
    {
      "cell_type": "markdown",
      "source": [
        "## Gradient Descent Fitting"
      ],
      "metadata": {
        "id": "GOQwx4mCiJoH"
      }
    },
    {
      "cell_type": "code",
      "source": [
        "def fit(model, train_set, dev_set, optimizer, loss_fn, num_epochs, every=100):\n",
        "  assert train_set[0].shape[-1] == train_set[1].shape[-1]\n",
        "  assert dev_set[0].shape[-1] == dev_set[1].shape[-1]\n",
        "  \n",
        "  train_home, train_away, train_y = train_set\n",
        "  dev_home, dev_away, dev_y = dev_set\n",
        "\n",
        "  print('Initial State')\n",
        "  train_correct, train_all = evaluate(\n",
        "      model, \n",
        "      train_home.flatten(0, -train_home.ndim + 1), \n",
        "      train_away.flatten(0, -train_away.ndim + 1), \n",
        "      train_y.reshape(-1)\n",
        "  )\n",
        "  dev_correct, dev_all = evaluate(model, dev_home, dev_away, dev_y)\n",
        "  print(f'Train Acc%: {train_correct / train_all * 100:.4f}')\n",
        "  print(f'Dev   Acc%: {dev_correct / dev_all * 100:.4f}')\n",
        "\n",
        "  for epoch in range(1, num_epochs + 1):\n",
        "    \n",
        "    epoch_loss = 0\n",
        "    for home_batch, away_batch, y_batch in zip(train_home, train_away, train_y):\n",
        "      batch_loss = train(model, optimizer, home_batch, away_batch, y_batch, loss_fn)\n",
        "      epoch_loss += batch_loss\n",
        "    train_correct, train_all = evaluate(\n",
        "      model, \n",
        "      train_home.flatten(0, -train_home.ndim + 1), \n",
        "      train_away.flatten(0, -train_away.ndim + 1), \n",
        "      train_y.reshape(-1)\n",
        "    )\n",
        "    dev_correct, dev_all = evaluate(model, dev_home, dev_away, dev_y)\n",
        "    if epoch % every == 0:\n",
        "      print('-' * 60)\n",
        "      print(f'Epoch {epoch}')\n",
        "      print(f'Avg Train Loss: {epoch_loss / train_home.shape[0]:.4f}')\n",
        "      print(f'Train Acc%:     {train_correct / train_all * 100:.4f}')\n",
        "      print(f'Dev   Acc%:     {dev_correct / dev_all * 100:.4f}')"
      ],
      "metadata": {
        "id": "0LxtNixkiMZ8"
      },
      "execution_count": 99,
      "outputs": []
    },
    {
      "cell_type": "markdown",
      "source": [
        "## Main"
      ],
      "metadata": {
        "id": "OdLznGo3iWKQ"
      }
    },
    {
      "cell_type": "code",
      "source": [
        "def main(train_group, dev_group, test_group, league, model, optimizer, loss_fn, n_epochs, every):\n",
        "  try:\n",
        "    (home_train, away_train, y_train) = train_group\n",
        "    (home_dev, away_dev, y_dev) = dev_group\n",
        "    (home_test, away_test, y_test) = test_group\n",
        "    print(f'Fitting on the {league} for {n_epochs} epochs')\n",
        "    print('.' * 60)\n",
        "    fit(\n",
        "      model, \n",
        "      (home_train, away_train, y_train),\n",
        "      (home_dev, away_dev, y_dev),\n",
        "      optimizer,\n",
        "      loss_fn,\n",
        "      n_epochs,\n",
        "      every\n",
        "    )\n",
        "  except KeyboardInterrupt:\n",
        "      pass\n",
        "  finally:\n",
        "    test_correct, test_all = evaluate(model, home_test, away_test, y_test.reshape(-1))\n",
        "    print(f'Test Acc%: {test_correct / test_all * 100:.4f}')\n",
        "    print('=' * 60)\n"
      ],
      "metadata": {
        "id": "mysJfsrFEPEc"
      },
      "execution_count": 72,
      "outputs": []
    },
    {
      "cell_type": "markdown",
      "source": [
        "# Team Blade Chest Modeling"
      ],
      "metadata": {
        "id": "_sI6Av5QxyXQ"
      }
    },
    {
      "cell_type": "markdown",
      "source": [
        "## TeamBladeChest Model "
      ],
      "metadata": {
        "id": "8qnLJofVZOx9"
      }
    },
    {
      "cell_type": "code",
      "source": [
        "class TeamBladeChest(Module):\n",
        "  def __init__(self, num_teams, embedding_size, hidden_size, dropout=0.5):\n",
        "    super(TeamBladeChest, self).__init__()\n",
        "    self.num_teams = num_teams\n",
        "    self.embedding_size = embedding_size\n",
        "    self.hidden_size = hidden_size\n",
        "    self.dropout=dropout\n",
        "\n",
        "    self.team_embedder = Embedding(self.num_teams, self.embedding_size)\n",
        "    self.emb_bn = BatchNorm1d(self.embedding_size)\n",
        "\n",
        "    self.chest_transform = Linear(self.embedding_size, self.hidden_size, bias=False)\n",
        "    self.chest_bn = BatchNorm1d(self.hidden_size)\n",
        "\n",
        "    self.blade_transform = Linear(self.embedding_size, self.hidden_size, bias=False)\n",
        "    self.blade_bn = BatchNorm1d(self.hidden_size)\n",
        "\n",
        "    self.regularizer = Dropout(p=self.dropout)\n",
        "    self.activation = Tanh()\n",
        "\n",
        "    self.result_transform = Linear(1, 3)\n",
        "    self.classifier = LogSoftmax(dim=-1)\n",
        "\n",
        "  def _encode_team(self, team):\n",
        "    embedding = self.team_embedder(team)\n",
        "    embedding = self.emb_bn(embedding)\n",
        "    #dropout here?\n",
        "    emnedding = self.regularizer(embedding)\n",
        "\n",
        "    blade = self.blade_transform(embedding)\n",
        "    blade = self.blade_bn(blade)\n",
        "    blade = self.activation(blade)\n",
        "    blade = self.regularizer(blade)\n",
        "\n",
        "    chest = self.chest_transform(embedding)\n",
        "    chest = self.chest_bn(chest)\n",
        "    chest = self.activation(chest)\n",
        "    chest = self.regularizer(chest)\n",
        "\n",
        "    return blade, chest\n",
        "\n",
        "  def _matchup(self, home_blade, home_chest, away_blade, away_chest):\n",
        "    return (home_blade * away_chest).sum(-1) - (away_blade * home_chest).sum(-1)\n",
        "\n",
        "  def forward(self, home, away):\n",
        "    home_blade, home_chest = self._encode_team(home)\n",
        "    away_blade, away_chest = self._encode_team(away)\n",
        "\n",
        "    matchup_score = self._matchup(home_blade, home_chest, away_blade, away_chest).reshape(-1, 1)\n",
        "\n",
        "    result = self.result_transform(matchup_score)\n",
        "    result = self.classifier(result)\n",
        "    result = self.regularizer(result)\n",
        "\n",
        "    return self.classifier(result)"
      ],
      "metadata": {
        "id": "aEVS__mnzGcE"
      },
      "execution_count": 56,
      "outputs": []
    },
    {
      "cell_type": "markdown",
      "source": [
        "## Hyperparameters"
      ],
      "metadata": {
        "id": "J4cYt8MAZdDq"
      }
    },
    {
      "cell_type": "code",
      "source": [
        "home = torch.from_numpy(transformed_dataset.loc[:, ['home_team_label']].values.reshape(-1))\n",
        "away = torch.from_numpy(transformed_dataset.loc[:, ['away_team_label']].values.reshape(-1))\n",
        "y = torch.from_numpy(transformed_dataset.loc[:, ['result_label']].values.reshape(-1))\n",
        "\n",
        "assert home.max() == away.max()\n",
        "num_teams = home.max() + 1\n",
        "embedding_size = 5\n",
        "hidden_size = 15\n",
        "batch_size = 64\n",
        "learning_rate = 1e-3\n",
        "n_epochs = 4000\n",
        "every = 800\n",
        "\n",
        "tbc_model = TeamBladeChest(\n",
        "    num_teams=num_teams,\n",
        "    embedding_size=embedding_size,\n",
        "    hidden_size=hidden_size,\n",
        "    dropout=0.5\n",
        ")\n",
        "\n",
        "optimizer = torch.optim.Adam(tbc_model.parameters(), lr=learning_rate)\n",
        "criterion = NLLLoss()\n",
        "tbc_model"
      ],
      "metadata": {
        "id": "0YJn0tXY4DSZ",
        "colab": {
          "base_uri": "https://localhost:8080/"
        },
        "outputId": "b108cd75-15d6-4ad6-f2a7-307f7aee3a18"
      },
      "execution_count": 57,
      "outputs": [
        {
          "output_type": "execute_result",
          "data": {
            "text/plain": [
              "TeamBladeChest(\n",
              "  (team_embedder): Embedding(254, 5)\n",
              "  (emb_bn): BatchNorm1d(5, eps=1e-05, momentum=0.1, affine=True, track_running_stats=True)\n",
              "  (chest_transform): Linear(in_features=5, out_features=15, bias=False)\n",
              "  (chest_bn): BatchNorm1d(15, eps=1e-05, momentum=0.1, affine=True, track_running_stats=True)\n",
              "  (blade_transform): Linear(in_features=5, out_features=15, bias=False)\n",
              "  (blade_bn): BatchNorm1d(15, eps=1e-05, momentum=0.1, affine=True, track_running_stats=True)\n",
              "  (regularizer): Dropout(p=0.5, inplace=False)\n",
              "  (activation): Tanh()\n",
              "  (result_transform): Linear(in_features=1, out_features=3, bias=True)\n",
              "  (classifier): LogSoftmax(dim=-1)\n",
              ")"
            ]
          },
          "metadata": {},
          "execution_count": 57
        }
      ]
    },
    {
      "cell_type": "code",
      "source": [
        "class TeamBladeChest(Module):\n",
        "  def __init__(self, num_teams, embedding_size, hidden_size, dropout=0.5):\n",
        "    super(TeamBladeChest, self).__init__()\n",
        "    self.num_teams = num_teams\n",
        "    self.embedding_size = embedding_size\n",
        "    self.hidden_size = hidden_size\n",
        "    self.dropout=dropout\n",
        "\n",
        "    self.team_embedder = Embedding(self.num_teams, self.embedding_size)\n",
        "    self.emb_bn = BatchNorm1d(self.embedding_size)\n",
        "\n",
        "    self.chest_transform = Linear(self.embedding_size, self.hidden_size, bias=False)\n",
        "    self.chest_bn = BatchNorm1d(self.hidden_size)\n",
        "\n",
        "    self.blade_transform = Linear(self.embedding_size, self.hidden_size, bias=False)\n",
        "    self.blade_bn = BatchNorm1d(self.hidden_size)\n",
        "\n",
        "    self.regularizer = Dropout(p=self.dropout)\n",
        "    self.activation = Tanh()\n",
        "\n",
        "    self.result_transform = Linear(1, 3)\n",
        "    self.classifier = LogSoftmax(dim=-1)\n",
        "\n",
        "  def _encode_team(self, team):\n",
        "    embedding = self.team_embedder(team)\n",
        "    embedding = self.emb_bn(embedding)\n",
        "    #dropout here?\n",
        "    emnedding = self.regularizer(embedding)\n",
        "\n",
        "    blade = self.blade_transform(embedding)\n",
        "    blade = self.blade_bn(blade)\n",
        "    blade = self.activation(blade)\n",
        "    blade = self.regularizer(blade)\n",
        "\n",
        "    chest = self.chest_transform(embedding)\n",
        "    chest = self.chest_bn(chest)\n",
        "    chest = self.activation(chest)\n",
        "    chest = self.regularizer(chest)\n",
        "\n",
        "    return blade, chest\n",
        "\n",
        "  def _matchup(self, home_blade, home_chest, away_blade, away_chest):\n",
        "    return (home_blade * away_chest).sum(-1) - (away_blade * home_chest).sum(-1)\n",
        "\n",
        "  def forward(self, home, away):\n",
        "    home_blade, home_chest = self._encode_team(home)\n",
        "    away_blade, away_chest = self._encode_team(away)\n",
        "\n",
        "    matchup_score = self._matchup(home_blade, home_chest, away_blade, away_chest).reshape(-1, 1)\n",
        "\n",
        "    result = self.result_transform(matchup_score)\n",
        "    result = self.classifier(result)\n",
        "    result = self.regularizer(result)\n",
        "\n",
        "    return self.classifier(result)"
      ],
      "metadata": {
        "id": "3jHna49p3kGj"
      },
      "execution_count": 58,
      "outputs": []
    },
    {
      "cell_type": "markdown",
      "source": [
        "## Fitting"
      ],
      "metadata": {
        "id": "ArG-OzQ8rGEd"
      }
    },
    {
      "cell_type": "code",
      "source": [
        "for train_set, dev_set, test_set in zip(train_groups, dev_groups, test_groups):\n",
        "  # batch_size = train_set.shape[0]\n",
        "  home_train = torch.from_numpy(train_set.loc[:, ['home_team_label']].values.reshape(-1))\n",
        "  home_train = home_train.reshape(-1, batch_size)\n",
        "  away_train = torch.from_numpy(train_set.loc[:, ['away_team_label']].values.reshape(-1))\n",
        "  away_train = away_train.reshape(-1, batch_size)\n",
        "  y_train = torch.from_numpy(train_set.loc[:, ['result_label']].values.reshape(-1))\n",
        "  y_train = y_train.reshape(-1, batch_size)\n",
        "\n",
        "  home_dev = torch.from_numpy(dev_set.loc[:, ['home_team_label']].values.reshape(-1))\n",
        "  away_dev = torch.from_numpy(dev_set.loc[:, ['away_team_label']].values.reshape(-1))\n",
        "  y_dev = torch.from_numpy(dev_set.loc[:, ['result_label']].values.reshape(-1))\n",
        "\n",
        "  home_test = torch.from_numpy(test_set.loc[:, ['home_team_label']].values.reshape(-1))\n",
        "  away_test = torch.from_numpy(test_set.loc[:, ['away_team_label']].values.reshape(-1))\n",
        "  y_test = torch.from_numpy(test_set.loc[:, ['result_label']].values.reshape(-1))\n",
        "\n",
        "  main(\n",
        "      (home_train, away_train, y_train),\n",
        "      (home_dev, away_dev, y_dev),\n",
        "      (home_test, away_test, y_test),\n",
        "      np.unique(train_set[\"league\"].values).item(),\n",
        "      tbc_model, \n",
        "      optimizer,\n",
        "       criterion,\n",
        "       n_epochs,\n",
        "       every    \n",
        "  )"
      ],
      "metadata": {
        "colab": {
          "base_uri": "https://localhost:8080/"
        },
        "id": "OvUM0rd3rH9R",
        "outputId": "fd2dcf4b-59fc-492f-ef96-93dac9dc88ba"
      },
      "execution_count": 59,
      "outputs": [
        {
          "output_type": "stream",
          "name": "stdout",
          "text": [
            "Fitting on the Belgium Jupiler League for 4000 epochs\n",
            "............................................................\n",
            "Initial State\n",
            "Train Acc%: 25.8523\n",
            "Dev   Acc%: 27.3109\n",
            "------------------------------------------------------------\n",
            "Epoch 800\n",
            "Train Loss: 14.9369\n",
            "Train Acc%: 53.6932\n",
            "Dev   Acc%: 49.5798\n",
            "Test Acc%: 49.3724\n",
            "============================================================\n",
            "Fitting on the England Premier League for 4000 epochs\n",
            "............................................................\n",
            "Initial State\n",
            "Train Acc%: 45.1509\n",
            "Dev   Acc%: 44.4444\n",
            "Test Acc%: 48.2696\n",
            "============================================================\n",
            "Fitting on the France Ligue 1 for 4000 epochs\n",
            "............................................................\n",
            "Initial State\n",
            "Train Acc%: 41.9643\n",
            "Dev   Acc%: 45.5744\n",
            "Test Acc%: 45.3008\n",
            "============================================================\n",
            "Fitting on the Germany 1. Bundesliga for 4000 epochs\n",
            "............................................................\n",
            "Initial State\n",
            "Train Acc%: 42.3913\n",
            "Dev   Acc%: 45.3125\n",
            "Test Acc%: 48.2143\n",
            "============================================================\n",
            "Fitting on the Italy Serie A for 4000 epochs\n",
            "............................................................\n",
            "Initial State\n",
            "Train Acc%: 40.0841\n",
            "Dev   Acc%: 39.2308\n",
            "Test Acc%: 45.1923\n",
            "============================================================\n",
            "Fitting on the Netherlands Eredivisie for 4000 epochs\n",
            "............................................................\n",
            "Initial State\n",
            "Train Acc%: 44.4901\n",
            "Dev   Acc%: 42.3940\n",
            "Test Acc%: 48.0100\n",
            "============================================================\n",
            "Fitting on the Portugal Liga ZON Sagres for 4000 epochs\n",
            "............................................................\n",
            "Initial State\n",
            "Train Acc%: 47.9167\n",
            "Dev   Acc%: 47.6190\n",
            "Test Acc%: 48.9177\n",
            "============================================================\n",
            "Fitting on the Scotland Premier League for 4000 epochs\n",
            "............................................................\n",
            "Initial State\n",
            "Train Acc%: 36.5625\n",
            "Dev   Acc%: 45.4225\n",
            "Test Acc%: 50.1754\n",
            "============================================================\n",
            "Fitting on the Spain LIGA BBVA for 4000 epochs\n",
            "............................................................\n",
            "Initial State\n",
            "Train Acc%: 37.8005\n",
            "Dev   Acc%: 38.1605\n",
            "Test Acc%: 49.4141\n",
            "============================================================\n"
          ]
        }
      ]
    },
    {
      "cell_type": "markdown",
      "source": [
        "# Player Blade Chest Modeling"
      ],
      "metadata": {
        "id": "v5PRdsc1S2ar"
      }
    },
    {
      "cell_type": "markdown",
      "source": [
        "## PlayerOneHot Model"
      ],
      "metadata": {
        "id": "M5_hxVcKpDVW"
      }
    },
    {
      "cell_type": "code",
      "source": [
        "class PlayerOneHot(Module):\n",
        "  def __init__(self, num_players):\n",
        "    super(PlayerOneHot, self).__init__()\n",
        "    self.num_players = num_players\n",
        "\n",
        "  def forward(self, players):\n",
        "    return F.one_hot(players, self.num_players).sum(-2).double()"
      ],
      "metadata": {
        "id": "sw0kyQZPoWfp"
      },
      "execution_count": 11,
      "outputs": []
    },
    {
      "cell_type": "markdown",
      "source": [
        "## PlayerBladeChest Model"
      ],
      "metadata": {
        "id": "3Ah2Pp24mNI0"
      }
    },
    {
      "cell_type": "code",
      "source": [
        "class PlayerBladeChest(Module):\n",
        "  def __init__(self, num_players, hidden_size, dropout=0.5):\n",
        "    super(PlayerBladeChest, self).__init__()\n",
        "    self.num_players = num_players\n",
        "    # self.embedding_size = embedding_size\n",
        "    self.hidden_size = hidden_size\n",
        "    self.dropout=dropout\n",
        "\n",
        "    # self.team_embedder = Embedding(self.num_teams, self.embedding_size)\n",
        "    # self.emb_bn = BatchNorm1d(self.embedding_size)\n",
        "\n",
        "    self.one_hot = PlayerOneHot(self.num_players)\n",
        "\n",
        "    self.chest_transform = Linear(self.num_players, self.hidden_size, bias=False)\n",
        "    self.chest_bn = BatchNorm1d(self.hidden_size)\n",
        "\n",
        "    self.blade_transform = Linear(self.num_players, self.hidden_size, bias=False)\n",
        "    self.blade_bn = BatchNorm1d(self.hidden_size)\n",
        "\n",
        "    self.regularizer = Dropout(p=self.dropout)\n",
        "    self.activation = Tanh()\n",
        "\n",
        "    self.result_transform = Linear(1, 3)\n",
        "    self.classifier = LogSoftmax(dim=-1)\n",
        "\n",
        "  def _encode_team(self, team):\n",
        "    # embedding = self.team_embedder(team)\n",
        "    # embedding = self.emb_bn(embedding)\n",
        "    # #dropout here?\n",
        "    # emnedding = self.regularizer(embedding)\n",
        "\n",
        "    embedding = self.one_hot(team)\n",
        "    blade = self.blade_transform(embedding)\n",
        "    blade = self.blade_bn(blade)\n",
        "    blade = self.activation(blade)\n",
        "    blade = self.regularizer(blade)\n",
        "\n",
        "    chest = self.chest_transform(embedding)\n",
        "    chest = self.chest_bn(chest)\n",
        "    chest = self.activation(chest)\n",
        "    chest = self.regularizer(chest)\n",
        "\n",
        "    return blade, chest\n",
        "\n",
        "  def _matchup(self, home_blade, home_chest, away_blade, away_chest):\n",
        "    return (home_blade * away_chest).sum(-1) - (away_blade * home_chest).sum(-1)\n",
        "\n",
        "  def forward(self, home, away):\n",
        "    home_blade, home_chest = self._encode_team(home)\n",
        "    away_blade, away_chest = self._encode_team(away)\n",
        "\n",
        "    matchup_score = self._matchup(home_blade, home_chest, away_blade, away_chest).reshape(-1, 1)\n",
        "\n",
        "    result = self.result_transform(matchup_score)\n",
        "    result = self.classifier(result)\n",
        "    result = self.regularizer(result)\n",
        "\n",
        "    return self.classifier(result)"
      ],
      "metadata": {
        "id": "mf3hK2-9lf6s"
      },
      "execution_count": 74,
      "outputs": []
    },
    {
      "cell_type": "markdown",
      "source": [
        "## Hyperparameters"
      ],
      "metadata": {
        "id": "XaX83ydWmZpU"
      }
    },
    {
      "cell_type": "code",
      "source": [
        "home_players = torch.from_numpy(home_player_labels)\n",
        "away_players = torch.from_numpy(away_player_labels)\n",
        "assert home_players.max() == away_players.max()\n",
        "num_players = home_players.max() + 1\n",
        "\n",
        "# embedding_size = 5\n",
        "hidden_size = 4\n",
        "learning_rate = 1e-3\n",
        "n_epochs = 4000\n",
        "every = 800\n",
        "batch_size = 64\n",
        "\n",
        "pbc_model = PlayerBladeChest(\n",
        "    num_players=num_players,\n",
        "    # embedding_size=embedding_size,\n",
        "    hidden_size=hidden_size,\n",
        "    dropout=0.5\n",
        ").double()\n",
        "\n",
        "optimizer = torch.optim.Adam(pbc_model.parameters(), lr=learning_rate)\n",
        "criterion = NLLLoss()\n",
        "pbc_model"
      ],
      "metadata": {
        "colab": {
          "base_uri": "https://localhost:8080/"
        },
        "id": "p42Ef8Jymb4h",
        "outputId": "a65d1220-90e3-43a8-b6a8-08dfff7f8697"
      },
      "execution_count": 108,
      "outputs": [
        {
          "output_type": "execute_result",
          "data": {
            "text/plain": [
              "PlayerBladeChest(\n",
              "  (one_hot): PlayerOneHot()\n",
              "  (chest_transform): Linear(in_features=9513, out_features=4, bias=False)\n",
              "  (chest_bn): BatchNorm1d(4, eps=1e-05, momentum=0.1, affine=True, track_running_stats=True)\n",
              "  (blade_transform): Linear(in_features=9513, out_features=4, bias=False)\n",
              "  (blade_bn): BatchNorm1d(4, eps=1e-05, momentum=0.1, affine=True, track_running_stats=True)\n",
              "  (regularizer): Dropout(p=0.5, inplace=False)\n",
              "  (activation): Tanh()\n",
              "  (result_transform): Linear(in_features=1, out_features=3, bias=True)\n",
              "  (classifier): LogSoftmax(dim=-1)\n",
              ")"
            ]
          },
          "metadata": {},
          "execution_count": 108
        }
      ]
    },
    {
      "cell_type": "markdown",
      "source": [
        "## Fitting"
      ],
      "metadata": {
        "id": "T5adWjy9qEEz"
      }
    },
    {
      "cell_type": "code",
      "source": [
        "for train_set, dev_set, test_set in zip(train_groups, dev_groups, test_groups):\n",
        "  # batch_size = train_set.shape[0]\n",
        "  home_train = torch.from_numpy(\n",
        "      np.stack(train_set['home_lineup_label'].apply(lambda lineup: lineup.split(' - '))).astype(np.int16)\n",
        "  ).long()\n",
        "  home_train = home_train.reshape(-1, batch_size, 11)\n",
        "  away_train = torch.from_numpy(\n",
        "      np.stack(train_set['away_lineup_label'].apply(lambda lineup: lineup.split(' - '))).astype(np.int16)\n",
        "  ).long()\n",
        "  away_train = away_train.reshape(-1, batch_size, 11)\n",
        "  y_train = torch.from_numpy(train_set.loc[:, ['result_label']].values.reshape(-1))\n",
        "  y_train = y_train.reshape(-1, batch_size)\n",
        "\n",
        "  home_dev = torch.from_numpy(\n",
        "      np.stack(dev_set['home_lineup_label'].apply(lambda lineup: lineup.split(' - '))).astype(np.int16)\n",
        "  ).long()\n",
        "  away_dev = torch.from_numpy(\n",
        "      np.stack(dev_set['away_lineup_label'].apply(lambda lineup: lineup.split(' - '))).astype(np.int16)\n",
        "  ).long()\n",
        "  y_dev = torch.from_numpy(dev_set.loc[:, ['result_label']].values.reshape(-1))\n",
        "\n",
        "  home_test = torch.from_numpy(\n",
        "      np.stack(test_set['home_lineup_label'].apply(lambda lineup: lineup.split(' - '))).astype(np.int16)\n",
        "  ).long()\n",
        "  away_test = torch.from_numpy(\n",
        "      np.stack(test_set['home_lineup_label'].apply(lambda lineup: lineup.split(' - '))).astype(np.int16)\n",
        "  ).long()\n",
        "  y_test = torch.from_numpy(test_set.loc[:, ['result_label']].values.reshape(-1))\n",
        "\n",
        "  main(\n",
        "      (home_train, away_train, y_train),\n",
        "      (home_dev, away_dev, y_dev),\n",
        "      (home_test, away_test, y_test),\n",
        "      np.unique(train_set[\"league\"].values).item(),\n",
        "      pbc_model, \n",
        "      optimizer,\n",
        "       criterion,\n",
        "       n_epochs=20,\n",
        "       every=5\n",
        "  )"
      ],
      "metadata": {
        "id": "1tTqcHOqqFZT",
        "colab": {
          "base_uri": "https://localhost:8080/"
        },
        "outputId": "4e8a9558-8124-49ad-dc4b-f4a66432bcc5"
      },
      "execution_count": null,
      "outputs": [
        {
          "output_type": "stream",
          "name": "stdout",
          "text": [
            "Fitting on the Belgium Jupiler League for 20 epochs\n",
            "............................................................\n",
            "Initial State\n",
            "Train Acc%: 25.8523\n",
            "Dev   Acc%: 24.3697\n",
            "------------------------------------------------------------\n",
            "Epoch 5\n",
            "Avg Train Loss: 1.9797\n",
            "Train Acc%:     41.0511\n",
            "Dev   Acc%:     25.6303\n",
            "------------------------------------------------------------\n",
            "Epoch 10\n",
            "Avg Train Loss: 1.6811\n",
            "Train Acc%:     44.6023\n",
            "Dev   Acc%:     25.6303\n"
          ]
        }
      ]
    },
    {
      "cell_type": "markdown",
      "source": [
        ""
      ],
      "metadata": {
        "id": "RCfplR6bhWib"
      }
    }
  ]
}